{
 "metadata": {
  "language_info": {
   "codemirror_mode": {
    "name": "ipython",
    "version": 3
   },
   "file_extension": ".py",
   "mimetype": "text/x-python",
   "name": "python",
   "nbconvert_exporter": "python",
   "pygments_lexer": "ipython3",
   "version": "3.9.1"
  },
  "orig_nbformat": 4,
  "kernelspec": {
   "name": "python3",
   "display_name": "Python 3.9.1 64-bit ('python@3.9')"
  },
  "interpreter": {
   "hash": "ac2eaa0ea0ebeafcc7822e65e46aa9d4f966f30b695406963e145ea4a91cd4fc"
  }
 },
 "nbformat": 4,
 "nbformat_minor": 2,
 "cells": [
  {
   "cell_type": "code",
   "execution_count": 1,
   "metadata": {},
   "outputs": [],
   "source": [
    "import pandas as pd"
   ]
  },
  {
   "cell_type": "code",
   "execution_count": 2,
   "metadata": {},
   "outputs": [],
   "source": [
    "import matplotlib"
   ]
  },
  {
   "cell_type": "code",
   "execution_count": 3,
   "metadata": {},
   "outputs": [],
   "source": [
    "import numpy as np"
   ]
  },
  {
   "cell_type": "code",
   "execution_count": 12,
   "metadata": {},
   "outputs": [],
   "source": [
    "import sqlite3 as sq3"
   ]
  },
  {
   "cell_type": "code",
   "execution_count": 14,
   "metadata": {},
   "outputs": [],
   "source": [
    "con = sq3.connect('frttt.db')"
   ]
  },
  {
   "cell_type": "code",
   "execution_count": 15,
   "metadata": {},
   "outputs": [],
   "source": [
    "cur = con.cursor()"
   ]
  },
  {
   "cell_type": "code",
   "execution_count": 16,
   "metadata": {},
   "outputs": [
    {
     "output_type": "execute_result",
     "data": {
      "text/plain": [
       "<sqlite3.Cursor at 0x11473eea0>"
      ]
     },
     "metadata": {},
     "execution_count": 16
    }
   ],
   "source": [
    "cur.execute('''CREATE TABLE videos\n",
    "               (ID int primary key, Titulo varchar(30), Descricao varchar(200), URL varchar(200) unique)''')"
   ]
  },
  {
   "cell_type": "code",
   "execution_count": 21,
   "metadata": {},
   "outputs": [
    {
     "output_type": "error",
     "ename": "IntegrityError",
     "evalue": "UNIQUE constraint failed: videos.URL",
     "traceback": [
      "\u001b[0;31m---------------------------------------------------------------------------\u001b[0m",
      "\u001b[0;31mIntegrityError\u001b[0m                            Traceback (most recent call last)",
      "\u001b[0;32m<ipython-input-21-6a2373c0da3c>\u001b[0m in \u001b[0;36m<module>\u001b[0;34m\u001b[0m\n\u001b[0;32m----> 1\u001b[0;31m \u001b[0mcur\u001b[0m\u001b[0;34m.\u001b[0m\u001b[0mexecute\u001b[0m\u001b[0;34m(\u001b[0m\u001b[0;34m\"INSERT INTO videos VALUES (1, 'Como RADIANTE joga na BIND?','Aula 1 de mapa do Valorant', 'https://www.youtube.com/watch?v=qcv5EGPqwSI')\"\u001b[0m\u001b[0;34m)\u001b[0m\u001b[0;34m\u001b[0m\u001b[0;34m\u001b[0m\u001b[0m\n\u001b[0m",
      "\u001b[0;31mIntegrityError\u001b[0m: UNIQUE constraint failed: videos.URL"
     ]
    }
   ],
   "source": [
    "cur.execute(\"INSERT INTO videos VALUES (1, 'Como RADIANTE joga na BIND?','Aula 1 de mapa do Valorant', 'https://www.youtube.com/watch?v=qcv5EGPqwSI')\")"
   ]
  },
  {
   "cell_type": "code",
   "execution_count": 18,
   "metadata": {},
   "outputs": [],
   "source": [
    "con.commit()"
   ]
  },
  {
   "cell_type": "code",
   "execution_count": 19,
   "metadata": {},
   "outputs": [],
   "source": [
    "todos = list(cur.execute('Select * from videos'))"
   ]
  },
  {
   "cell_type": "code",
   "execution_count": 22,
   "metadata": {},
   "outputs": [
    {
     "output_type": "stream",
     "name": "stdout",
     "text": [
      "[(1, 'Como RADIANTE joga na BIND?', 'Aula 1 de mapa do Valorant', 'https://www.youtube.com/watch?v=qcv5EGPqwSI')]\n"
     ]
    }
   ],
   "source": [
    "print(todos)"
   ]
  },
  {
   "cell_type": "code",
   "execution_count": 23,
   "metadata": {},
   "outputs": [
    {
     "output_type": "execute_result",
     "data": {
      "text/plain": [
       "<sqlite3.Cursor at 0x11473eea0>"
      ]
     },
     "metadata": {},
     "execution_count": 23
    }
   ],
   "source": [
    "cur.execute(\"INSERT INTO videos VALUES (2, 'Como RADIANTE joga na ICEBOX?', 'Aula 2 de mapa do Valorant', 'https://www.youtube.com/watch?v=5nTlIoH9rw0'), (3, 'Como RADIANTE joga na HAVEN?', 'Aula 3 de mapa do Valorant', 'https://www.youtube.com/watch?v=9coHR5T_l2Q')\")"
   ]
  },
  {
   "cell_type": "code",
   "execution_count": 24,
   "metadata": {},
   "outputs": [],
   "source": [
    "con.commit()"
   ]
  },
  {
   "cell_type": "code",
   "execution_count": 27,
   "metadata": {},
   "outputs": [],
   "source": [
    "todos = list(cur.execute('Select * from videos'))"
   ]
  },
  {
   "cell_type": "code",
   "execution_count": 28,
   "metadata": {},
   "outputs": [
    {
     "output_type": "stream",
     "name": "stdout",
     "text": [
      "[(1, 'Como RADIANTE joga na BIND?', 'Aula 1 de mapa do Valorant', 'https://www.youtube.com/watch?v=qcv5EGPqwSI'), (2, 'Como RADIANTE joga na ICEBOX?', 'Aula 2 de mapa do Valorant', 'https://www.youtube.com/watch?v=5nTlIoH9rw0'), (3, 'Como RADIANTE joga na HAVEN?', 'Aula 3 de mapa do Valorant', 'https://www.youtube.com/watch?v=9coHR5T_l2Q')]\n"
     ]
    }
   ],
   "source": [
    "print(todos)"
   ]
  },
  {
   "cell_type": "code",
   "execution_count": 29,
   "metadata": {},
   "outputs": [],
   "source": [
    "todos = list(cur.execute('Select URL from videos'))"
   ]
  },
  {
   "cell_type": "code",
   "execution_count": 30,
   "metadata": {},
   "outputs": [
    {
     "output_type": "stream",
     "name": "stdout",
     "text": [
      "[('https://www.youtube.com/watch?v=5nTlIoH9rw0',), ('https://www.youtube.com/watch?v=9coHR5T_l2Q',), ('https://www.youtube.com/watch?v=qcv5EGPqwSI',)]\n"
     ]
    }
   ],
   "source": [
    "print(todos)"
   ]
  },
  {
   "cell_type": "code",
   "execution_count": 31,
   "metadata": {},
   "outputs": [],
   "source": [
    "todos = list(cur.execute('Select * from videos'))"
   ]
  },
  {
   "cell_type": "code",
   "execution_count": 32,
   "metadata": {},
   "outputs": [
    {
     "output_type": "execute_result",
     "data": {
      "text/plain": [
       "<sqlite3.Cursor at 0x1148ca880>"
      ]
     },
     "metadata": {},
     "execution_count": 32
    }
   ],
   "source": [
    "con.execute(\"\"\"INSERT INTO videos VALUES \n",
    "(4, 'Como RADIANTE joga na ASCENT?', 'Aula 4 de mapa do Valorant', 'https://www.youtube.com/watch?v=lNSBmIf-2BI'), \n",
    "(5, 'Como RADIANTE joga na SPLIT?', 'Aula 5 de mapa do Valorant', 'https://www.youtube.com/watch?v=pbcq1REzdLM'), \n",
    "(6, 'Como RADIANTE defende na BREEZE?', 'Aula 6 de mapa do Valorant', 'https://www.youtube.com/watch?v=tnxzRJxsIrw'), \n",
    "(7, 'Como RADIANTE ataca na BREEZE?', 'Aula 7 de mapa do Valorant', 'https://www.youtube.com/watch?v=1GaOITGGprA'), \n",
    "(8, 'Aula de VARADÃO na BIND com RADIANTE TOP 9!', 'Aula 8 de mapa do Valorant', 'https://www.youtube.com/watch?v=ZgWwG_HVOsE'), \n",
    "(9, 'Aula de VARADÃO na ASCENT com RADIANTE RANK 9 BRASIL!', 'Aula 9 de mapa do Valorant', 'https://www.youtube.com/watch?v=-LGYfE9Rqnw'), \n",
    "(10, 'Aula do TOP 5 BRASIL de VARADÃO na HAVEN!', 'Aula 10 de mapa do Valorant', 'https://www.youtube.com/watch?v=HmMasQZOZaw')\"\"\")"
   ]
  },
  {
   "cell_type": "code",
   "execution_count": 33,
   "metadata": {},
   "outputs": [],
   "source": [
    "con.commit()"
   ]
  },
  {
   "cell_type": "code",
   "execution_count": 34,
   "metadata": {},
   "outputs": [],
   "source": [
    "todos = list(cur.execute('Select * from videos'))"
   ]
  },
  {
   "cell_type": "code",
   "execution_count": 35,
   "metadata": {},
   "outputs": [
    {
     "output_type": "stream",
     "name": "stdout",
     "text": [
      "[(1, 'Como RADIANTE joga na BIND?', 'Aula 1 de mapa do Valorant', 'https://www.youtube.com/watch?v=qcv5EGPqwSI'), (2, 'Como RADIANTE joga na ICEBOX?', 'Aula 2 de mapa do Valorant', 'https://www.youtube.com/watch?v=5nTlIoH9rw0'), (3, 'Como RADIANTE joga na HAVEN?', 'Aula 3 de mapa do Valorant', 'https://www.youtube.com/watch?v=9coHR5T_l2Q'), (4, 'Como RADIANTE joga na ASCENT?', 'Aula 4 de mapa do Valorant', 'https://www.youtube.com/watch?v=lNSBmIf-2BI'), (5, 'Como RADIANTE joga na SPLIT?', 'Aula 5 de mapa do Valorant', 'https://www.youtube.com/watch?v=pbcq1REzdLM'), (6, 'Como RADIANTE defende na BREEZE?', 'Aula 6 de mapa do Valorant', 'https://www.youtube.com/watch?v=tnxzRJxsIrw'), (7, 'Como RADIANTE ataca na BREEZE?', 'Aula 7 de mapa do Valorant', 'https://www.youtube.com/watch?v=1GaOITGGprA'), (8, 'Aula de VARADÃO na BIND com RADIANTE TOP 9!', 'Aula 8 de mapa do Valorant', 'https://www.youtube.com/watch?v=ZgWwG_HVOsE'), (9, 'Aula de VARADÃO na ASCENT com RADIANTE RANK 9 BRASIL!', 'Aula 9 de mapa do Valorant', 'https://www.youtube.com/watch?v=-LGYfE9Rqnw'), (10, 'Aula do TOP 5 BRASIL de VARADÃO na HAVEN!', 'Aula 10 de mapa do Valorant', 'https://www.youtube.com/watch?v=HmMasQZOZaw')]\n"
     ]
    }
   ],
   "source": [
    "print(todos)"
   ]
  },
  {
   "cell_type": "code",
   "execution_count": 36,
   "metadata": {},
   "outputs": [],
   "source": [
    "tabela_videos = pd.DataFrame(todos)"
   ]
  },
  {
   "cell_type": "code",
   "execution_count": 37,
   "metadata": {},
   "outputs": [
    {
     "output_type": "execute_result",
     "data": {
      "text/plain": [
       "    0                                                  1  \\\n",
       "0   1                        Como RADIANTE joga na BIND?   \n",
       "1   2                      Como RADIANTE joga na ICEBOX?   \n",
       "2   3                       Como RADIANTE joga na HAVEN?   \n",
       "3   4                      Como RADIANTE joga na ASCENT?   \n",
       "4   5                       Como RADIANTE joga na SPLIT?   \n",
       "5   6                   Como RADIANTE defende na BREEZE?   \n",
       "6   7                     Como RADIANTE ataca na BREEZE?   \n",
       "7   8        Aula de VARADÃO na BIND com RADIANTE TOP 9!   \n",
       "8   9  Aula de VARADÃO na ASCENT com RADIANTE RANK 9 ...   \n",
       "9  10          Aula do TOP 5 BRASIL de VARADÃO na HAVEN!   \n",
       "\n",
       "                             2                                            3  \n",
       "0   Aula 1 de mapa do Valorant  https://www.youtube.com/watch?v=qcv5EGPqwSI  \n",
       "1   Aula 2 de mapa do Valorant  https://www.youtube.com/watch?v=5nTlIoH9rw0  \n",
       "2   Aula 3 de mapa do Valorant  https://www.youtube.com/watch?v=9coHR5T_l2Q  \n",
       "3   Aula 4 de mapa do Valorant  https://www.youtube.com/watch?v=lNSBmIf-2BI  \n",
       "4   Aula 5 de mapa do Valorant  https://www.youtube.com/watch?v=pbcq1REzdLM  \n",
       "5   Aula 6 de mapa do Valorant  https://www.youtube.com/watch?v=tnxzRJxsIrw  \n",
       "6   Aula 7 de mapa do Valorant  https://www.youtube.com/watch?v=1GaOITGGprA  \n",
       "7   Aula 8 de mapa do Valorant  https://www.youtube.com/watch?v=ZgWwG_HVOsE  \n",
       "8   Aula 9 de mapa do Valorant  https://www.youtube.com/watch?v=-LGYfE9Rqnw  \n",
       "9  Aula 10 de mapa do Valorant  https://www.youtube.com/watch?v=HmMasQZOZaw  "
      ],
      "text/html": "<div>\n<style scoped>\n    .dataframe tbody tr th:only-of-type {\n        vertical-align: middle;\n    }\n\n    .dataframe tbody tr th {\n        vertical-align: top;\n    }\n\n    .dataframe thead th {\n        text-align: right;\n    }\n</style>\n<table border=\"1\" class=\"dataframe\">\n  <thead>\n    <tr style=\"text-align: right;\">\n      <th></th>\n      <th>0</th>\n      <th>1</th>\n      <th>2</th>\n      <th>3</th>\n    </tr>\n  </thead>\n  <tbody>\n    <tr>\n      <th>0</th>\n      <td>1</td>\n      <td>Como RADIANTE joga na BIND?</td>\n      <td>Aula 1 de mapa do Valorant</td>\n      <td>https://www.youtube.com/watch?v=qcv5EGPqwSI</td>\n    </tr>\n    <tr>\n      <th>1</th>\n      <td>2</td>\n      <td>Como RADIANTE joga na ICEBOX?</td>\n      <td>Aula 2 de mapa do Valorant</td>\n      <td>https://www.youtube.com/watch?v=5nTlIoH9rw0</td>\n    </tr>\n    <tr>\n      <th>2</th>\n      <td>3</td>\n      <td>Como RADIANTE joga na HAVEN?</td>\n      <td>Aula 3 de mapa do Valorant</td>\n      <td>https://www.youtube.com/watch?v=9coHR5T_l2Q</td>\n    </tr>\n    <tr>\n      <th>3</th>\n      <td>4</td>\n      <td>Como RADIANTE joga na ASCENT?</td>\n      <td>Aula 4 de mapa do Valorant</td>\n      <td>https://www.youtube.com/watch?v=lNSBmIf-2BI</td>\n    </tr>\n    <tr>\n      <th>4</th>\n      <td>5</td>\n      <td>Como RADIANTE joga na SPLIT?</td>\n      <td>Aula 5 de mapa do Valorant</td>\n      <td>https://www.youtube.com/watch?v=pbcq1REzdLM</td>\n    </tr>\n    <tr>\n      <th>5</th>\n      <td>6</td>\n      <td>Como RADIANTE defende na BREEZE?</td>\n      <td>Aula 6 de mapa do Valorant</td>\n      <td>https://www.youtube.com/watch?v=tnxzRJxsIrw</td>\n    </tr>\n    <tr>\n      <th>6</th>\n      <td>7</td>\n      <td>Como RADIANTE ataca na BREEZE?</td>\n      <td>Aula 7 de mapa do Valorant</td>\n      <td>https://www.youtube.com/watch?v=1GaOITGGprA</td>\n    </tr>\n    <tr>\n      <th>7</th>\n      <td>8</td>\n      <td>Aula de VARADÃO na BIND com RADIANTE TOP 9!</td>\n      <td>Aula 8 de mapa do Valorant</td>\n      <td>https://www.youtube.com/watch?v=ZgWwG_HVOsE</td>\n    </tr>\n    <tr>\n      <th>8</th>\n      <td>9</td>\n      <td>Aula de VARADÃO na ASCENT com RADIANTE RANK 9 ...</td>\n      <td>Aula 9 de mapa do Valorant</td>\n      <td>https://www.youtube.com/watch?v=-LGYfE9Rqnw</td>\n    </tr>\n    <tr>\n      <th>9</th>\n      <td>10</td>\n      <td>Aula do TOP 5 BRASIL de VARADÃO na HAVEN!</td>\n      <td>Aula 10 de mapa do Valorant</td>\n      <td>https://www.youtube.com/watch?v=HmMasQZOZaw</td>\n    </tr>\n  </tbody>\n</table>\n</div>"
     },
     "metadata": {},
     "execution_count": 37
    }
   ],
   "source": [
    "tabela_videos"
   ]
  },
  {
   "cell_type": "code",
   "execution_count": 38,
   "metadata": {},
   "outputs": [],
   "source": [
    "tabela_videos.columns= ['ID', 'Título', 'Descrição', 'URL']"
   ]
  },
  {
   "cell_type": "code",
   "execution_count": 39,
   "metadata": {},
   "outputs": [
    {
     "output_type": "execute_result",
     "data": {
      "text/plain": [
       "   ID                                             Título  \\\n",
       "0   1                        Como RADIANTE joga na BIND?   \n",
       "1   2                      Como RADIANTE joga na ICEBOX?   \n",
       "2   3                       Como RADIANTE joga na HAVEN?   \n",
       "3   4                      Como RADIANTE joga na ASCENT?   \n",
       "4   5                       Como RADIANTE joga na SPLIT?   \n",
       "5   6                   Como RADIANTE defende na BREEZE?   \n",
       "6   7                     Como RADIANTE ataca na BREEZE?   \n",
       "7   8        Aula de VARADÃO na BIND com RADIANTE TOP 9!   \n",
       "8   9  Aula de VARADÃO na ASCENT com RADIANTE RANK 9 ...   \n",
       "9  10          Aula do TOP 5 BRASIL de VARADÃO na HAVEN!   \n",
       "\n",
       "                     Descrição                                          URL  \n",
       "0   Aula 1 de mapa do Valorant  https://www.youtube.com/watch?v=qcv5EGPqwSI  \n",
       "1   Aula 2 de mapa do Valorant  https://www.youtube.com/watch?v=5nTlIoH9rw0  \n",
       "2   Aula 3 de mapa do Valorant  https://www.youtube.com/watch?v=9coHR5T_l2Q  \n",
       "3   Aula 4 de mapa do Valorant  https://www.youtube.com/watch?v=lNSBmIf-2BI  \n",
       "4   Aula 5 de mapa do Valorant  https://www.youtube.com/watch?v=pbcq1REzdLM  \n",
       "5   Aula 6 de mapa do Valorant  https://www.youtube.com/watch?v=tnxzRJxsIrw  \n",
       "6   Aula 7 de mapa do Valorant  https://www.youtube.com/watch?v=1GaOITGGprA  \n",
       "7   Aula 8 de mapa do Valorant  https://www.youtube.com/watch?v=ZgWwG_HVOsE  \n",
       "8   Aula 9 de mapa do Valorant  https://www.youtube.com/watch?v=-LGYfE9Rqnw  \n",
       "9  Aula 10 de mapa do Valorant  https://www.youtube.com/watch?v=HmMasQZOZaw  "
      ],
      "text/html": "<div>\n<style scoped>\n    .dataframe tbody tr th:only-of-type {\n        vertical-align: middle;\n    }\n\n    .dataframe tbody tr th {\n        vertical-align: top;\n    }\n\n    .dataframe thead th {\n        text-align: right;\n    }\n</style>\n<table border=\"1\" class=\"dataframe\">\n  <thead>\n    <tr style=\"text-align: right;\">\n      <th></th>\n      <th>ID</th>\n      <th>Título</th>\n      <th>Descrição</th>\n      <th>URL</th>\n    </tr>\n  </thead>\n  <tbody>\n    <tr>\n      <th>0</th>\n      <td>1</td>\n      <td>Como RADIANTE joga na BIND?</td>\n      <td>Aula 1 de mapa do Valorant</td>\n      <td>https://www.youtube.com/watch?v=qcv5EGPqwSI</td>\n    </tr>\n    <tr>\n      <th>1</th>\n      <td>2</td>\n      <td>Como RADIANTE joga na ICEBOX?</td>\n      <td>Aula 2 de mapa do Valorant</td>\n      <td>https://www.youtube.com/watch?v=5nTlIoH9rw0</td>\n    </tr>\n    <tr>\n      <th>2</th>\n      <td>3</td>\n      <td>Como RADIANTE joga na HAVEN?</td>\n      <td>Aula 3 de mapa do Valorant</td>\n      <td>https://www.youtube.com/watch?v=9coHR5T_l2Q</td>\n    </tr>\n    <tr>\n      <th>3</th>\n      <td>4</td>\n      <td>Como RADIANTE joga na ASCENT?</td>\n      <td>Aula 4 de mapa do Valorant</td>\n      <td>https://www.youtube.com/watch?v=lNSBmIf-2BI</td>\n    </tr>\n    <tr>\n      <th>4</th>\n      <td>5</td>\n      <td>Como RADIANTE joga na SPLIT?</td>\n      <td>Aula 5 de mapa do Valorant</td>\n      <td>https://www.youtube.com/watch?v=pbcq1REzdLM</td>\n    </tr>\n    <tr>\n      <th>5</th>\n      <td>6</td>\n      <td>Como RADIANTE defende na BREEZE?</td>\n      <td>Aula 6 de mapa do Valorant</td>\n      <td>https://www.youtube.com/watch?v=tnxzRJxsIrw</td>\n    </tr>\n    <tr>\n      <th>6</th>\n      <td>7</td>\n      <td>Como RADIANTE ataca na BREEZE?</td>\n      <td>Aula 7 de mapa do Valorant</td>\n      <td>https://www.youtube.com/watch?v=1GaOITGGprA</td>\n    </tr>\n    <tr>\n      <th>7</th>\n      <td>8</td>\n      <td>Aula de VARADÃO na BIND com RADIANTE TOP 9!</td>\n      <td>Aula 8 de mapa do Valorant</td>\n      <td>https://www.youtube.com/watch?v=ZgWwG_HVOsE</td>\n    </tr>\n    <tr>\n      <th>8</th>\n      <td>9</td>\n      <td>Aula de VARADÃO na ASCENT com RADIANTE RANK 9 ...</td>\n      <td>Aula 9 de mapa do Valorant</td>\n      <td>https://www.youtube.com/watch?v=-LGYfE9Rqnw</td>\n    </tr>\n    <tr>\n      <th>9</th>\n      <td>10</td>\n      <td>Aula do TOP 5 BRASIL de VARADÃO na HAVEN!</td>\n      <td>Aula 10 de mapa do Valorant</td>\n      <td>https://www.youtube.com/watch?v=HmMasQZOZaw</td>\n    </tr>\n  </tbody>\n</table>\n</div>"
     },
     "metadata": {},
     "execution_count": 39
    }
   ],
   "source": [
    "tabela_videos"
   ]
  },
  {
   "cell_type": "code",
   "execution_count": null,
   "metadata": {},
   "outputs": [],
   "source": []
  }
 ]
}